{
 "cells": [
  {
   "cell_type": "code",
   "execution_count": 1,
   "metadata": {},
   "outputs": [],
   "source": [
    "from bs4 import BeautifulSoup\n",
    "from collections import Counter\n",
    "from string import punctuation\n",
    "import urllib.request\n",
    "import nltk"
   ]
  },
  {
   "cell_type": "code",
   "execution_count": 2,
   "metadata": {},
   "outputs": [],
   "source": [
    "response = urllib.request.urlopen('http://php.net/')\n",
    "html = response.read()\n",
    "soup = BeautifulSoup(html,\"html5lib\")"
   ]
  },
  {
   "cell_type": "code",
   "execution_count": 3,
   "metadata": {},
   "outputs": [
    {
     "name": "stdout",
     "output_type": "stream",
     "text": [
      "[('php', 56), ('the', 37), ('released', 28), ('upgrading', 26), ('page', 25), ('system', 24), ('news', 24), ('wiki', 23), ('download', 23), ('bug', 23), ('reporting', 19), ('manifest', 18), ('qa', 18), ('site', 18), ('windows.php.net/qa', 17), ('extensions', 16), ('and', 9), ('downloads', 8), ('release', 8), ('upgrading.internals', 8), ('windows.php.net/download', 7), ('changelog', 7), ('alpha', 7), ('3', 5), ('7.2.0', 5), ('tracking', 5), ('security', 4), ('related', 4), ('our', 4), ('predefined', 3), ('database', 3), ('services', 3), ('processing', 3), ('other', 3), ('notes', 3), ('7.4.0', 3), ('1', 3), ('7.3.0', 3), ('candidate', 3), ('2019', 3), ('started', 2), ('introduction', 2), ('language', 2), ('reference', 2), ('basic', 2), ('variables', 2), ('control', 2), ('classes', 2), ('exceptions', 2), ('installed', 2), ('as', 2), ('session', 2), ('using', 2), ('user', 2), ('authentication', 2), ('with', 2), ('handling', 2), ('file', 2), ('command', 2), ('line', 2), ('manipulation', 2), ('specific', 2), ('7.1.31', 2), ('7.2.21', 2), ('7.3.8', 2), ('announcement', 2), ('2', 2), ('conferences', 2), ('conference', 2), ('group', 2), ('php.net', 2), ('documentation', 1), ('get', 1), ('involved', 1), ('help', 1), ('getting', 1), ('a', 1), ('simple', 1), ('tutorial', 1), ('syntax', 1), ('types', 1), ('constants', 1), ('expressions', 1), ('operators', 1), ('structures', 1), ('functions', 1), ('objects', 1), ('namespaces', 1), ('errors', 1), ('generators', 1), ('references', 1), ('explained', 1), ('interfaces', 1), ('context', 1), ('options', 1), ('parameters', 1), ('supported', 1), ('protocols', 1), ('wrappers', 1), ('general', 1), ('considerations', 1), ('cgi', 1), ('binary', 1), ('an', 1), ('apache', 1), ('module', 1), ('filesystem', 1), ('error', 1), ('register', 1), ('globals', 1), ('submitted', 1), ('data', 1), ('magic', 1), ('quotes', 1), ('hiding', 1), ('keeping', 1), ('current', 1), ('features', 1), ('http', 1), ('cookies', 1), ('sessions', 1), ('dealing', 1), ('xforms', 1), ('uploads', 1), ('remote', 1), ('files', 1), ('connection', 1), ('persistent', 1), ('connections', 1), ('safe', 1), ('mode', 1), ('usage', 1), ('garbage', 1), ('collection', 1), ('dtrace', 1), ('dynamic', 1), ('tracing', 1), ('function', 1), ('affecting', 1), (\"php's\", 1), ('behaviour', 1), ('audio', 1), ('formats', 1), ('compression', 1), ('archive', 1), ('credit', 1), ('card', 1), ('cryptography', 1), ('date', 1), ('time', 1), ('human', 1), ('character', 1), ('encoding', 1), ('support', 1), ('image', 1), ('generation', 1), ('mail', 1), ('mathematical', 1), ('non-text', 1), ('mime', 1), ('output', 1), ('process', 1), ('search', 1), ('engine', 1), ('server', 1), ('text', 1), ('variable', 1), ('type', 1), ('web', 1), ('windows', 1), ('only', 1), ('xml', 1), ('gui', 1), ('7.4.0beta2', 1), ('7.4.0beta1', 1), ('7.2.20', 1), ('7.3.7', 1), ('7.1.30', 1), ('7.3.0rc6', 1), ('7.3.0rc5', 1), ('7.3.0rc4', 1), ('7.3.0rc3', 1), ('7.3.0rc2', 1), ('7.3.0rc1', 1), ('7.3.0.beta3', 1), ('7.3.0.beta2', 1), ('7.3.0.beta1', 1), ('7.3.0alpha4', 1), ('7.2.2', 1), ('4', 1), ('beta', 1), ('older', 1), ('entries', 1), ('calling', 1), ('for', 1), ('papers', 1), ('japan', 1), ('cfp', 1), ('upcoming', 1), (\"fwdays'20\", 1), ('central', 1), ('europe', 1), ('php[world', 1), ('—', 1), ('25', 1), ('years', 1), ('of', 1), ('lightning', 1), ('events', 1), ('special', 1), ('thanks', 1), ('@official_php', 1), ('copyright', 1), ('©', 1), ('2001-2019', 1), ('my', 1), ('contact', 1), ('sites', 1), ('privacy', 1), ('policy', 1)]\n"
     ]
    }
   ],
   "source": [
    "text = (''.join(s.findAll(text=True))for s in soup.findAll('a'))\n",
    "\n",
    "c = Counter((x.rstrip(punctuation).lower() for y in text for x in y.split()))\n",
    "# Print most common words\n",
    "print (c.most_common())"
   ]
  },
  {
   "cell_type": "code",
   "execution_count": null,
   "metadata": {},
   "outputs": [],
   "source": []
  }
 ],
 "metadata": {
  "kernelspec": {
   "display_name": "Python 3",
   "language": "python",
   "name": "python3"
  },
  "language_info": {
   "codemirror_mode": {
    "name": "ipython",
    "version": 3
   },
   "file_extension": ".py",
   "mimetype": "text/x-python",
   "name": "python",
   "nbconvert_exporter": "python",
   "pygments_lexer": "ipython3",
   "version": "3.7.1"
  }
 },
 "nbformat": 4,
 "nbformat_minor": 2
}
